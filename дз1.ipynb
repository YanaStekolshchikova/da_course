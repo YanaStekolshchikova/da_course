{
  "cells": [
    {
      "cell_type": "markdown",
      "metadata": {
        "id": "view-in-github",
        "colab_type": "text"
      },
      "source": [
        "<a href=\"https://colab.research.google.com/github/YanaStekolshchikova/da_course/blob/main/%D0%B4%D0%B71.ipynb\" target=\"_parent\"><img src=\"https://colab.research.google.com/assets/colab-badge.svg\" alt=\"Open In Colab\"/></a>"
      ]
    },
    {
      "cell_type": "code",
      "execution_count": 1,
      "id": "e6f49db0-3cd6-4735-b370-5356dbbe28d1",
      "metadata": {
        "colab": {
          "base_uri": "https://localhost:8080/"
        },
        "id": "e6f49db0-3cd6-4735-b370-5356dbbe28d1",
        "outputId": "2e62e4be-3072-4908-aa79-03538992cc62"
      },
      "outputs": [
        {
          "output_type": "stream",
          "name": "stdout",
          "text": [
            "Requirement already satisfied: ipython-sql in /usr/local/lib/python3.11/dist-packages (0.5.0)\n",
            "Requirement already satisfied: prettytable==0.7.2 in /usr/local/lib/python3.11/dist-packages (0.7.2)\n",
            "Requirement already satisfied: ipython in /usr/local/lib/python3.11/dist-packages (from ipython-sql) (7.34.0)\n",
            "Requirement already satisfied: sqlalchemy>=2.0 in /usr/local/lib/python3.11/dist-packages (from ipython-sql) (2.0.39)\n",
            "Requirement already satisfied: sqlparse in /usr/local/lib/python3.11/dist-packages (from ipython-sql) (0.5.3)\n",
            "Requirement already satisfied: six in /usr/local/lib/python3.11/dist-packages (from ipython-sql) (1.17.0)\n",
            "Requirement already satisfied: ipython-genutils in /usr/local/lib/python3.11/dist-packages (from ipython-sql) (0.2.0)\n",
            "Requirement already satisfied: greenlet!=0.4.17 in /usr/local/lib/python3.11/dist-packages (from sqlalchemy>=2.0->ipython-sql) (3.1.1)\n",
            "Requirement already satisfied: typing-extensions>=4.6.0 in /usr/local/lib/python3.11/dist-packages (from sqlalchemy>=2.0->ipython-sql) (4.12.2)\n",
            "Requirement already satisfied: setuptools>=18.5 in /usr/local/lib/python3.11/dist-packages (from ipython->ipython-sql) (75.1.0)\n",
            "Requirement already satisfied: jedi>=0.16 in /usr/local/lib/python3.11/dist-packages (from ipython->ipython-sql) (0.19.2)\n",
            "Requirement already satisfied: decorator in /usr/local/lib/python3.11/dist-packages (from ipython->ipython-sql) (4.4.2)\n",
            "Requirement already satisfied: pickleshare in /usr/local/lib/python3.11/dist-packages (from ipython->ipython-sql) (0.7.5)\n",
            "Requirement already satisfied: traitlets>=4.2 in /usr/local/lib/python3.11/dist-packages (from ipython->ipython-sql) (5.7.1)\n",
            "Requirement already satisfied: prompt-toolkit!=3.0.0,!=3.0.1,<3.1.0,>=2.0.0 in /usr/local/lib/python3.11/dist-packages (from ipython->ipython-sql) (3.0.50)\n",
            "Requirement already satisfied: pygments in /usr/local/lib/python3.11/dist-packages (from ipython->ipython-sql) (2.18.0)\n",
            "Requirement already satisfied: backcall in /usr/local/lib/python3.11/dist-packages (from ipython->ipython-sql) (0.2.0)\n",
            "Requirement already satisfied: matplotlib-inline in /usr/local/lib/python3.11/dist-packages (from ipython->ipython-sql) (0.1.7)\n",
            "Requirement already satisfied: pexpect>4.3 in /usr/local/lib/python3.11/dist-packages (from ipython->ipython-sql) (4.9.0)\n",
            "Requirement already satisfied: parso<0.9.0,>=0.8.4 in /usr/local/lib/python3.11/dist-packages (from jedi>=0.16->ipython->ipython-sql) (0.8.4)\n",
            "Requirement already satisfied: ptyprocess>=0.5 in /usr/local/lib/python3.11/dist-packages (from pexpect>4.3->ipython->ipython-sql) (0.7.0)\n",
            "Requirement already satisfied: wcwidth in /usr/local/lib/python3.11/dist-packages (from prompt-toolkit!=3.0.0,!=3.0.1,<3.1.0,>=2.0.0->ipython->ipython-sql) (0.2.13)\n"
          ]
        }
      ],
      "source": [
        "! pip install ipython-sql prettytable==0.7.2"
      ]
    },
    {
      "cell_type": "markdown",
      "id": "6d690c42",
      "metadata": {
        "id": "6d690c42"
      },
      "source": [
        "# Включение магической функции `sql`"
      ]
    },
    {
      "cell_type": "code",
      "execution_count": 2,
      "id": "d1c66e99-a3b7-4342-bcfa-c8ede2045392",
      "metadata": {
        "id": "d1c66e99-a3b7-4342-bcfa-c8ede2045392"
      },
      "outputs": [],
      "source": [
        "%load_ext sql\n",
        "%reload_ext sql"
      ]
    },
    {
      "cell_type": "code",
      "execution_count": 4,
      "id": "1ae8833c-3c7d-41ef-9627-a53580616c1d",
      "metadata": {
        "id": "1ae8833c-3c7d-41ef-9627-a53580616c1d"
      },
      "outputs": [],
      "source": [
        "%sql sqlite:///northwind.db\n",
        "%config SqlMagic.style = 'DEFAULT'"
      ]
    },
    {
      "cell_type": "markdown",
      "id": "957d733d",
      "metadata": {
        "id": "957d733d"
      },
      "source": [
        "# Полезные ссылки, которые помогут решить ДЗ\n",
        "Тут все про синтаксис работы `SQLite` - https://www.sqlitetutorial.net/sqlite-functions/\n",
        "Что понадобится в ДЗ?\n",
        "* `SELECT`, `FROM` - база\n",
        "* `LIMIT` - выводит определенное кол-во строк\n",
        "* `DISTINCT` - выводит уникальные строки по полю\n",
        "* `ORDER BY` - сортирует строки\n",
        "* `WHERE` - фильтрация строк\n",
        "* `GROUP BY`\n",
        "* `AS` - нужно чтобы переименовать колонку/таблицу\n",
        "* `MIN`, `MAX`, `SUM`, `AVG`, `COUNT` - группировки (мин, макс, сумма, среднее, кол-во)\n",
        "* `ROUND(number, 2)` - округляет кол-во цифр после запятой\n",
        "* `DATE(date_column, 'start of month')` - приводит дату `2024-01-05` к первому дня месяца `2024-01-01`\n",
        "* `DATE(date_column, 'start of year')` - приводит дату `2024-01-05` к первому дня года `2024-01-01`\n",
        "* `CAST(column AS INT)` - приводит колонку к какому то типу\n",
        "* `INNER JOIN` `LEFT JOINT` - нужно чтобы соединить по какому то правилу две таблицы"
      ]
    },
    {
      "cell_type": "markdown",
      "id": "0f4ea336",
      "metadata": {
        "id": "0f4ea336"
      },
      "source": [
        "# Задача 0\n",
        "Нужно вывести топ 5 городов пользователей, которые совершили заказы в 2016 году"
      ]
    },
    {
      "cell_type": "code",
      "execution_count": 50,
      "id": "421c0db4-fa61-4273-b44e-347fbe2841bc",
      "metadata": {
        "colab": {
          "base_uri": "https://localhost:8080/",
          "height": 181
        },
        "id": "421c0db4-fa61-4273-b44e-347fbe2841bc",
        "outputId": "b0d7733f-83f7-45ea-9a82-9e5984251159"
      },
      "outputs": [
        {
          "output_type": "stream",
          "name": "stdout",
          "text": [
            " * sqlite:///northwind.db\n",
            "Done.\n"
          ]
        },
        {
          "output_type": "execute_result",
          "data": {
            "text/plain": [
              "[('2016-01-01', 'London', 89, 6),\n",
              " ('2016-01-01', 'México D.F.', 86, 5),\n",
              " ('2016-01-01', 'Sao Paulo', 65, 4),\n",
              " ('2016-01-01', 'Madrid', 56, 3),\n",
              " ('2016-01-01', 'Rio de Janeiro', 53, 3)]"
            ],
            "text/html": [
              "<table>\n",
              "    <tr>\n",
              "        <th>order_year</th>\n",
              "        <th>city</th>\n",
              "        <th>cnt</th>\n",
              "        <th>distinct_customer</th>\n",
              "    </tr>\n",
              "    <tr>\n",
              "        <td>2016-01-01</td>\n",
              "        <td>London</td>\n",
              "        <td>89</td>\n",
              "        <td>6</td>\n",
              "    </tr>\n",
              "    <tr>\n",
              "        <td>2016-01-01</td>\n",
              "        <td>México D.F.</td>\n",
              "        <td>86</td>\n",
              "        <td>5</td>\n",
              "    </tr>\n",
              "    <tr>\n",
              "        <td>2016-01-01</td>\n",
              "        <td>Sao Paulo</td>\n",
              "        <td>65</td>\n",
              "        <td>4</td>\n",
              "    </tr>\n",
              "    <tr>\n",
              "        <td>2016-01-01</td>\n",
              "        <td>Madrid</td>\n",
              "        <td>56</td>\n",
              "        <td>3</td>\n",
              "    </tr>\n",
              "    <tr>\n",
              "        <td>2016-01-01</td>\n",
              "        <td>Rio de Janeiro</td>\n",
              "        <td>53</td>\n",
              "        <td>3</td>\n",
              "    </tr>\n",
              "</table>"
            ]
          },
          "metadata": {},
          "execution_count": 50
        }
      ],
      "source": [
        "%%sql\n",
        "-- здесь код\n",
        "SELECT\n",
        "    DATE(orders.orderDate, 'start of year') AS order_year, -- можно было без этого, но просто хотел показать как работает функция\n",
        "    customers.city                          AS city,  -- города пользователей\n",
        "    COUNT(*)                                AS cnt, -- кол-во заказов\n",
        "    COUNT(DISTINCT orders.customerID)       AS distinct_customer -- кол-во уникальных пользователей\n",
        "FROM orders\n",
        "    INNER JOIN customers\n",
        "        ON customers.customerId = orders.customerId\n",
        "WHERE orderDate >= '2016-01-01' AND orderDate < '2017-01-01' -- фильтруем даты (2016 год), '2016-01-01' автоматически переведется в тип DATE\n",
        "GROUP BY 1, 2-- это говорит о том что, нужно группировать по 1, 2 колонке\n",
        "ORDER BY 3 DESC -- это говорит о том что, нужно сортировать по 3 колонке\n",
        "LIMIT 5 -- выводим 5 записей"
      ]
    },
    {
      "cell_type": "markdown",
      "id": "b3f4e4af",
      "metadata": {
        "id": "b3f4e4af"
      },
      "source": [
        "# Каждое задание имеет вес 1 балл"
      ]
    },
    {
      "cell_type": "markdown",
      "id": "0b00db39",
      "metadata": {
        "id": "0b00db39"
      },
      "source": [
        "# Задание 1\n",
        "(Это все один запрос)\n",
        "* Выведите столбцы (`productId`, `productName`, `unitPrice`) из таблицы `products`\n",
        "* Переименуйте поле `productName` в `product_name`\n",
        "* Отсортируйте по ключу `productId`\n",
        "* Ограничьтесь результатам 10 строк\n",
        "\n",
        "\n"
      ]
    },
    {
      "cell_type": "code",
      "execution_count": 52,
      "id": "cf18af1c",
      "metadata": {
        "colab": {
          "base_uri": "https://localhost:8080/",
          "height": 285
        },
        "id": "cf18af1c",
        "outputId": "8ccf7500-c46b-4f1d-de29-30e04cbf7d4d"
      },
      "outputs": [
        {
          "output_type": "stream",
          "name": "stdout",
          "text": [
            " * sqlite:///northwind.db\n",
            "Done.\n"
          ]
        },
        {
          "output_type": "execute_result",
          "data": {
            "text/plain": [
              "[(1, 'Chai', 18),\n",
              " (2, 'Chang', 19),\n",
              " (3, 'Aniseed Syrup', 10),\n",
              " (4, \"Chef Anton's Cajun Seasoning\", 22),\n",
              " (5, \"Chef Anton's Gumbo Mix\", 21.35),\n",
              " (6, \"Grandma's Boysenberry Spread\", 25),\n",
              " (7, \"Uncle Bob's Organic Dried Pears\", 30),\n",
              " (8, 'Northwoods Cranberry Sauce', 40),\n",
              " (9, 'Mishi Kobe Niku', 97),\n",
              " (10, 'Ikura', 31)]"
            ],
            "text/html": [
              "<table>\n",
              "    <tr>\n",
              "        <th>ProductID</th>\n",
              "        <th>product_name</th>\n",
              "        <th>UnitPrice</th>\n",
              "    </tr>\n",
              "    <tr>\n",
              "        <td>1</td>\n",
              "        <td>Chai</td>\n",
              "        <td>18</td>\n",
              "    </tr>\n",
              "    <tr>\n",
              "        <td>2</td>\n",
              "        <td>Chang</td>\n",
              "        <td>19</td>\n",
              "    </tr>\n",
              "    <tr>\n",
              "        <td>3</td>\n",
              "        <td>Aniseed Syrup</td>\n",
              "        <td>10</td>\n",
              "    </tr>\n",
              "    <tr>\n",
              "        <td>4</td>\n",
              "        <td>Chef Anton&#x27;s Cajun Seasoning</td>\n",
              "        <td>22</td>\n",
              "    </tr>\n",
              "    <tr>\n",
              "        <td>5</td>\n",
              "        <td>Chef Anton&#x27;s Gumbo Mix</td>\n",
              "        <td>21.35</td>\n",
              "    </tr>\n",
              "    <tr>\n",
              "        <td>6</td>\n",
              "        <td>Grandma&#x27;s Boysenberry Spread</td>\n",
              "        <td>25</td>\n",
              "    </tr>\n",
              "    <tr>\n",
              "        <td>7</td>\n",
              "        <td>Uncle Bob&#x27;s Organic Dried Pears</td>\n",
              "        <td>30</td>\n",
              "    </tr>\n",
              "    <tr>\n",
              "        <td>8</td>\n",
              "        <td>Northwoods Cranberry Sauce</td>\n",
              "        <td>40</td>\n",
              "    </tr>\n",
              "    <tr>\n",
              "        <td>9</td>\n",
              "        <td>Mishi Kobe Niku</td>\n",
              "        <td>97</td>\n",
              "    </tr>\n",
              "    <tr>\n",
              "        <td>10</td>\n",
              "        <td>Ikura</td>\n",
              "        <td>31</td>\n",
              "    </tr>\n",
              "</table>"
            ]
          },
          "metadata": {},
          "execution_count": 52
        }
      ],
      "source": [
        "%%sql\n",
        "\n",
        "SELECT\n",
        "    productId,\n",
        "    productName AS product_name,\n",
        "    unitPrice\n",
        "FROM products\n",
        "ORDER BY productId\n",
        "LIMIT 10"
      ]
    },
    {
      "cell_type": "markdown",
      "id": "d5b3fc69",
      "metadata": {
        "id": "d5b3fc69"
      },
      "source": [
        "# Задание 2\n",
        "Выведите столбцы `CustomerID`, `CompanyName` и `City` из таблицы `Customers` для клиентов, у которых город (`City`) равен `'London'`. Отсортируйте результат по `CompanyName` в алфавитном порядке\n",
        "\n"
      ]
    },
    {
      "cell_type": "code",
      "execution_count": 53,
      "id": "9057506a",
      "metadata": {
        "colab": {
          "base_uri": "https://localhost:8080/",
          "height": 202
        },
        "id": "9057506a",
        "outputId": "b25f1168-ac09-47c9-e2da-a1836efbdade"
      },
      "outputs": [
        {
          "output_type": "stream",
          "name": "stdout",
          "text": [
            " * sqlite:///northwind.db\n",
            "Done.\n"
          ]
        },
        {
          "output_type": "execute_result",
          "data": {
            "text/plain": [
              "[('AROUT', 'Around the Horn', 'London'),\n",
              " ('BSBEV', \"B's Beverages\", 'London'),\n",
              " ('CONSH', 'Consolidated Holdings', 'London'),\n",
              " ('EASTC', 'Eastern Connection', 'London'),\n",
              " ('NORTS', 'North/South', 'London'),\n",
              " ('SEVES', 'Seven Seas Imports', 'London')]"
            ],
            "text/html": [
              "<table>\n",
              "    <tr>\n",
              "        <th>CustomerID</th>\n",
              "        <th>CompanyName</th>\n",
              "        <th>City</th>\n",
              "    </tr>\n",
              "    <tr>\n",
              "        <td>AROUT</td>\n",
              "        <td>Around the Horn</td>\n",
              "        <td>London</td>\n",
              "    </tr>\n",
              "    <tr>\n",
              "        <td>BSBEV</td>\n",
              "        <td>B&#x27;s Beverages</td>\n",
              "        <td>London</td>\n",
              "    </tr>\n",
              "    <tr>\n",
              "        <td>CONSH</td>\n",
              "        <td>Consolidated Holdings</td>\n",
              "        <td>London</td>\n",
              "    </tr>\n",
              "    <tr>\n",
              "        <td>EASTC</td>\n",
              "        <td>Eastern Connection</td>\n",
              "        <td>London</td>\n",
              "    </tr>\n",
              "    <tr>\n",
              "        <td>NORTS</td>\n",
              "        <td>North/South</td>\n",
              "        <td>London</td>\n",
              "    </tr>\n",
              "    <tr>\n",
              "        <td>SEVES</td>\n",
              "        <td>Seven Seas Imports</td>\n",
              "        <td>London</td>\n",
              "    </tr>\n",
              "</table>"
            ]
          },
          "metadata": {},
          "execution_count": 53
        }
      ],
      "source": [
        "%%sql\n",
        "SELECT\n",
        "    CustomerID,\n",
        "    CompanyName,\n",
        "    City\n",
        "FROM\n",
        "    Customers\n",
        "WHERE\n",
        "    City = 'London'\n",
        "ORDER BY\n",
        "    CompanyName ASC;  -- сортируем в алфавитном порядке"
      ]
    },
    {
      "cell_type": "markdown",
      "id": "7553c331",
      "metadata": {
        "id": "7553c331"
      },
      "source": [
        "# Задание 3\n",
        "Выберите все столбцы из таблицы `Products` и отсортируйте товары по цене `UnitPrice` по убыванию. Отобразите только первые 5 записей\n",
        "\n"
      ]
    },
    {
      "cell_type": "code",
      "execution_count": 54,
      "id": "79f314e5",
      "metadata": {
        "colab": {
          "base_uri": "https://localhost:8080/",
          "height": 287
        },
        "id": "79f314e5",
        "outputId": "1b6a184a-2dfe-40a3-9f49-9da39a0e278d"
      },
      "outputs": [
        {
          "output_type": "stream",
          "name": "stdout",
          "text": [
            " * sqlite:///northwind.db\n",
            "Done.\n"
          ]
        },
        {
          "output_type": "execute_result",
          "data": {
            "text/plain": [
              "[(38, 'Côte de Blaye', 18, 1, '12 - 75 cl bottles', 263.5, 17, 0, 15, '0'),\n",
              " (29, 'Thüringer Rostbratwurst', 12, 6, '50 bags x 30 sausgs.', 123.79, 0, 0, 0, '1'),\n",
              " (9, 'Mishi Kobe Niku', 4, 6, '18 - 500 g pkgs.', 97, 29, 0, 0, '1'),\n",
              " (20, \"Sir Rodney's Marmalade\", 8, 3, '30 gift boxes', 81, 40, 0, 0, '0'),\n",
              " (18, 'Carnarvon Tigers', 7, 8, '16 kg pkg.', 62.5, 42, 0, 0, '0')]"
            ],
            "text/html": [
              "<table>\n",
              "    <tr>\n",
              "        <th>ProductID</th>\n",
              "        <th>ProductName</th>\n",
              "        <th>SupplierID</th>\n",
              "        <th>CategoryID</th>\n",
              "        <th>QuantityPerUnit</th>\n",
              "        <th>UnitPrice</th>\n",
              "        <th>UnitsInStock</th>\n",
              "        <th>UnitsOnOrder</th>\n",
              "        <th>ReorderLevel</th>\n",
              "        <th>Discontinued</th>\n",
              "    </tr>\n",
              "    <tr>\n",
              "        <td>38</td>\n",
              "        <td>Côte de Blaye</td>\n",
              "        <td>18</td>\n",
              "        <td>1</td>\n",
              "        <td>12 - 75 cl bottles</td>\n",
              "        <td>263.5</td>\n",
              "        <td>17</td>\n",
              "        <td>0</td>\n",
              "        <td>15</td>\n",
              "        <td>0</td>\n",
              "    </tr>\n",
              "    <tr>\n",
              "        <td>29</td>\n",
              "        <td>Thüringer Rostbratwurst</td>\n",
              "        <td>12</td>\n",
              "        <td>6</td>\n",
              "        <td>50 bags x 30 sausgs.</td>\n",
              "        <td>123.79</td>\n",
              "        <td>0</td>\n",
              "        <td>0</td>\n",
              "        <td>0</td>\n",
              "        <td>1</td>\n",
              "    </tr>\n",
              "    <tr>\n",
              "        <td>9</td>\n",
              "        <td>Mishi Kobe Niku</td>\n",
              "        <td>4</td>\n",
              "        <td>6</td>\n",
              "        <td>18 - 500 g pkgs.</td>\n",
              "        <td>97</td>\n",
              "        <td>29</td>\n",
              "        <td>0</td>\n",
              "        <td>0</td>\n",
              "        <td>1</td>\n",
              "    </tr>\n",
              "    <tr>\n",
              "        <td>20</td>\n",
              "        <td>Sir Rodney&#x27;s Marmalade</td>\n",
              "        <td>8</td>\n",
              "        <td>3</td>\n",
              "        <td>30 gift boxes</td>\n",
              "        <td>81</td>\n",
              "        <td>40</td>\n",
              "        <td>0</td>\n",
              "        <td>0</td>\n",
              "        <td>0</td>\n",
              "    </tr>\n",
              "    <tr>\n",
              "        <td>18</td>\n",
              "        <td>Carnarvon Tigers</td>\n",
              "        <td>7</td>\n",
              "        <td>8</td>\n",
              "        <td>16 kg pkg.</td>\n",
              "        <td>62.5</td>\n",
              "        <td>42</td>\n",
              "        <td>0</td>\n",
              "        <td>0</td>\n",
              "        <td>0</td>\n",
              "    </tr>\n",
              "</table>"
            ]
          },
          "metadata": {},
          "execution_count": 54
        }
      ],
      "source": [
        "%%sql\n",
        "SELECT *\n",
        "FROM\n",
        "    Products\n",
        "ORDER BY\n",
        "    UnitPrice DESC\n",
        "LIMIT 5"
      ]
    },
    {
      "cell_type": "markdown",
      "id": "60b7d2c8",
      "metadata": {
        "id": "60b7d2c8"
      },
      "source": [
        "# Задание 4\n",
        "Подсчитайте, сколько товаров находится в каждой категории `CategoryID` в таблице `Products`. В результате отобразите `CategoryID` и количество товаров в столбце с алиасом (`AS`) `productCnt`, обязательно отсортируйте по `CategoryID`\n",
        "\n"
      ]
    },
    {
      "cell_type": "code",
      "execution_count": 55,
      "id": "93da3355",
      "metadata": {
        "colab": {
          "base_uri": "https://localhost:8080/",
          "height": 243
        },
        "id": "93da3355",
        "outputId": "cfb8ec46-477b-47c8-aae4-723ed12b0c0a"
      },
      "outputs": [
        {
          "output_type": "stream",
          "name": "stdout",
          "text": [
            " * sqlite:///northwind.db\n",
            "Done.\n"
          ]
        },
        {
          "output_type": "execute_result",
          "data": {
            "text/plain": [
              "[(1, 12), (2, 12), (3, 13), (4, 10), (5, 7), (6, 6), (7, 5), (8, 12)]"
            ],
            "text/html": [
              "<table>\n",
              "    <tr>\n",
              "        <th>CategoryID</th>\n",
              "        <th>productCnt</th>\n",
              "    </tr>\n",
              "    <tr>\n",
              "        <td>1</td>\n",
              "        <td>12</td>\n",
              "    </tr>\n",
              "    <tr>\n",
              "        <td>2</td>\n",
              "        <td>12</td>\n",
              "    </tr>\n",
              "    <tr>\n",
              "        <td>3</td>\n",
              "        <td>13</td>\n",
              "    </tr>\n",
              "    <tr>\n",
              "        <td>4</td>\n",
              "        <td>10</td>\n",
              "    </tr>\n",
              "    <tr>\n",
              "        <td>5</td>\n",
              "        <td>7</td>\n",
              "    </tr>\n",
              "    <tr>\n",
              "        <td>6</td>\n",
              "        <td>6</td>\n",
              "    </tr>\n",
              "    <tr>\n",
              "        <td>7</td>\n",
              "        <td>5</td>\n",
              "    </tr>\n",
              "    <tr>\n",
              "        <td>8</td>\n",
              "        <td>12</td>\n",
              "    </tr>\n",
              "</table>"
            ]
          },
          "metadata": {},
          "execution_count": 55
        }
      ],
      "source": [
        "%%sql\n",
        "SELECT\n",
        "    CategoryID,\n",
        "    COUNT(*) AS productCnt\n",
        "FROM\n",
        "    Products\n",
        "GROUP BY\n",
        "    CategoryID\n",
        "ORDER BY\n",
        "    CategoryID"
      ]
    },
    {
      "cell_type": "markdown",
      "id": "26006dac",
      "metadata": {
        "id": "26006dac"
      },
      "source": [
        "# Задание 5\n",
        "Для каждой категории `CategoryID` из таблицы `Products` найдите минимальную, максимальную и среднюю цену товаров (`UnitPrice`). Выведите `CategoryID` и столбцы с алиасами `minPrice`, `maxPrice`, `avgPrice`. Отсортируйте по полю `CategoryId`, также округлите числа до `2` знаков после запятой, вам поможет функция `ROUND`\n",
        "\n"
      ]
    },
    {
      "cell_type": "code",
      "execution_count": 56,
      "id": "1e8bd120",
      "metadata": {
        "colab": {
          "base_uri": "https://localhost:8080/",
          "height": 243
        },
        "id": "1e8bd120",
        "outputId": "2da2b6b6-2955-431e-c538-5238670c6687"
      },
      "outputs": [
        {
          "output_type": "stream",
          "name": "stdout",
          "text": [
            " * sqlite:///northwind.db\n",
            "Done.\n"
          ]
        },
        {
          "output_type": "execute_result",
          "data": {
            "text/plain": [
              "[(1, 4.5, 263.5, 37.98),\n",
              " (2, 10.0, 43.9, 23.06),\n",
              " (3, 9.2, 81.0, 25.16),\n",
              " (4, 2.5, 55.0, 28.73),\n",
              " (5, 7.0, 38.0, 20.25),\n",
              " (6, 7.45, 123.79, 54.01),\n",
              " (7, 10.0, 53.0, 32.37),\n",
              " (8, 6.0, 62.5, 20.68)]"
            ],
            "text/html": [
              "<table>\n",
              "    <tr>\n",
              "        <th>CategoryID</th>\n",
              "        <th>minPrice</th>\n",
              "        <th>maxPrice</th>\n",
              "        <th>avgPrice</th>\n",
              "    </tr>\n",
              "    <tr>\n",
              "        <td>1</td>\n",
              "        <td>4.5</td>\n",
              "        <td>263.5</td>\n",
              "        <td>37.98</td>\n",
              "    </tr>\n",
              "    <tr>\n",
              "        <td>2</td>\n",
              "        <td>10.0</td>\n",
              "        <td>43.9</td>\n",
              "        <td>23.06</td>\n",
              "    </tr>\n",
              "    <tr>\n",
              "        <td>3</td>\n",
              "        <td>9.2</td>\n",
              "        <td>81.0</td>\n",
              "        <td>25.16</td>\n",
              "    </tr>\n",
              "    <tr>\n",
              "        <td>4</td>\n",
              "        <td>2.5</td>\n",
              "        <td>55.0</td>\n",
              "        <td>28.73</td>\n",
              "    </tr>\n",
              "    <tr>\n",
              "        <td>5</td>\n",
              "        <td>7.0</td>\n",
              "        <td>38.0</td>\n",
              "        <td>20.25</td>\n",
              "    </tr>\n",
              "    <tr>\n",
              "        <td>6</td>\n",
              "        <td>7.45</td>\n",
              "        <td>123.79</td>\n",
              "        <td>54.01</td>\n",
              "    </tr>\n",
              "    <tr>\n",
              "        <td>7</td>\n",
              "        <td>10.0</td>\n",
              "        <td>53.0</td>\n",
              "        <td>32.37</td>\n",
              "    </tr>\n",
              "    <tr>\n",
              "        <td>8</td>\n",
              "        <td>6.0</td>\n",
              "        <td>62.5</td>\n",
              "        <td>20.68</td>\n",
              "    </tr>\n",
              "</table>"
            ]
          },
          "metadata": {},
          "execution_count": 56
        }
      ],
      "source": [
        "%%sql\n",
        "SELECT\n",
        "    CategoryID,\n",
        "    ROUND(MIN(UnitPrice), 2) AS minPrice,\n",
        "    ROUND(MAX(UnitPrice), 2) AS maxPrice,\n",
        "    ROUND(AVG(UnitPrice), 2) AS avgPrice\n",
        "FROM\n",
        "    Products\n",
        "GROUP BY\n",
        "    CategoryID\n",
        "ORDER BY\n",
        "    CategoryID"
      ]
    },
    {
      "cell_type": "markdown",
      "id": "de96b44f",
      "metadata": {
        "id": "de96b44f"
      },
      "source": [
        "# Задание 6\n",
        "* Сгруппируйте заказы (Orders) по первому дню месяца, переименуйте расчет в `monthStart`\n",
        "* Подсчитайте, сколько заказов было сделано в каждом месяце, переименуйте расчет в `ordersCount`\n",
        "* Отсортируйте по `monthStart`\n",
        "* Выведите только первые 10 строк\n",
        "\n"
      ]
    },
    {
      "cell_type": "code",
      "execution_count": 57,
      "id": "15d81ad3",
      "metadata": {
        "colab": {
          "base_uri": "https://localhost:8080/",
          "height": 285
        },
        "id": "15d81ad3",
        "outputId": "8ee47dbf-f25a-42dd-d497-3192634b23d6"
      },
      "outputs": [
        {
          "output_type": "stream",
          "name": "stdout",
          "text": [
            " * sqlite:///northwind.db\n",
            "Done.\n"
          ]
        },
        {
          "output_type": "execute_result",
          "data": {
            "text/plain": [
              "[('2012-07-01', 69),\n",
              " ('2012-08-01', 122),\n",
              " ('2012-09-01', 119),\n",
              " ('2012-10-01', 111),\n",
              " ('2012-11-01', 105),\n",
              " ('2012-12-01', 128),\n",
              " ('2013-01-01', 113),\n",
              " ('2013-02-01', 100),\n",
              " ('2013-03-01', 120),\n",
              " ('2013-04-01', 123)]"
            ],
            "text/html": [
              "<table>\n",
              "    <tr>\n",
              "        <th>monthStart</th>\n",
              "        <th>ordersCount</th>\n",
              "    </tr>\n",
              "    <tr>\n",
              "        <td>2012-07-01</td>\n",
              "        <td>69</td>\n",
              "    </tr>\n",
              "    <tr>\n",
              "        <td>2012-08-01</td>\n",
              "        <td>122</td>\n",
              "    </tr>\n",
              "    <tr>\n",
              "        <td>2012-09-01</td>\n",
              "        <td>119</td>\n",
              "    </tr>\n",
              "    <tr>\n",
              "        <td>2012-10-01</td>\n",
              "        <td>111</td>\n",
              "    </tr>\n",
              "    <tr>\n",
              "        <td>2012-11-01</td>\n",
              "        <td>105</td>\n",
              "    </tr>\n",
              "    <tr>\n",
              "        <td>2012-12-01</td>\n",
              "        <td>128</td>\n",
              "    </tr>\n",
              "    <tr>\n",
              "        <td>2013-01-01</td>\n",
              "        <td>113</td>\n",
              "    </tr>\n",
              "    <tr>\n",
              "        <td>2013-02-01</td>\n",
              "        <td>100</td>\n",
              "    </tr>\n",
              "    <tr>\n",
              "        <td>2013-03-01</td>\n",
              "        <td>120</td>\n",
              "    </tr>\n",
              "    <tr>\n",
              "        <td>2013-04-01</td>\n",
              "        <td>123</td>\n",
              "    </tr>\n",
              "</table>"
            ]
          },
          "metadata": {},
          "execution_count": 57
        }
      ],
      "source": [
        "%%sql\n",
        "SELECT\n",
        "    DATE(orderDate, 'start of month') AS monthStart,\n",
        "    COUNT(*) AS ordersCount\n",
        "FROM\n",
        "    Orders\n",
        "GROUP BY\n",
        "    monthStart\n",
        "ORDER BY\n",
        "    monthStart\n",
        "LIMIT 10"
      ]
    },
    {
      "cell_type": "markdown",
      "id": "e12f64f0",
      "metadata": {
        "id": "e12f64f0"
      },
      "source": [
        "# Задание 7\n",
        "* Аналогично предыдущему, сгруппируйте заказы по первому дню года\n",
        "* Посчитайте количество заказов в каждом году\n",
        "* Выведите столбцы `yearStart` и `ordersCount`\n"
      ]
    },
    {
      "cell_type": "code",
      "execution_count": 58,
      "id": "13345d69",
      "metadata": {
        "colab": {
          "base_uri": "https://localhost:8080/",
          "height": 327
        },
        "id": "13345d69",
        "outputId": "9ea8235e-dc27-4897-c7be-378a933fad3a"
      },
      "outputs": [
        {
          "output_type": "stream",
          "name": "stdout",
          "text": [
            " * sqlite:///northwind.db\n",
            "Done.\n"
          ]
        },
        {
          "output_type": "execute_result",
          "data": {
            "text/plain": [
              "[('2012-01-01', 654),\n",
              " ('2013-01-01', 1351),\n",
              " ('2014-01-01', 1351),\n",
              " ('2015-01-01', 1449),\n",
              " ('2016-01-01', 1506),\n",
              " ('2017-01-01', 1780),\n",
              " ('2018-01-01', 1549),\n",
              " ('2019-01-01', 1362),\n",
              " ('2020-01-01', 1376),\n",
              " ('2021-01-01', 1420),\n",
              " ('2022-01-01', 1352),\n",
              " ('2023-01-01', 1132)]"
            ],
            "text/html": [
              "<table>\n",
              "    <tr>\n",
              "        <th>yearStart</th>\n",
              "        <th>ordersCount</th>\n",
              "    </tr>\n",
              "    <tr>\n",
              "        <td>2012-01-01</td>\n",
              "        <td>654</td>\n",
              "    </tr>\n",
              "    <tr>\n",
              "        <td>2013-01-01</td>\n",
              "        <td>1351</td>\n",
              "    </tr>\n",
              "    <tr>\n",
              "        <td>2014-01-01</td>\n",
              "        <td>1351</td>\n",
              "    </tr>\n",
              "    <tr>\n",
              "        <td>2015-01-01</td>\n",
              "        <td>1449</td>\n",
              "    </tr>\n",
              "    <tr>\n",
              "        <td>2016-01-01</td>\n",
              "        <td>1506</td>\n",
              "    </tr>\n",
              "    <tr>\n",
              "        <td>2017-01-01</td>\n",
              "        <td>1780</td>\n",
              "    </tr>\n",
              "    <tr>\n",
              "        <td>2018-01-01</td>\n",
              "        <td>1549</td>\n",
              "    </tr>\n",
              "    <tr>\n",
              "        <td>2019-01-01</td>\n",
              "        <td>1362</td>\n",
              "    </tr>\n",
              "    <tr>\n",
              "        <td>2020-01-01</td>\n",
              "        <td>1376</td>\n",
              "    </tr>\n",
              "    <tr>\n",
              "        <td>2021-01-01</td>\n",
              "        <td>1420</td>\n",
              "    </tr>\n",
              "    <tr>\n",
              "        <td>2022-01-01</td>\n",
              "        <td>1352</td>\n",
              "    </tr>\n",
              "    <tr>\n",
              "        <td>2023-01-01</td>\n",
              "        <td>1132</td>\n",
              "    </tr>\n",
              "</table>"
            ]
          },
          "metadata": {},
          "execution_count": 58
        }
      ],
      "source": [
        "%%sql\n",
        "SELECT\n",
        "    DATE(orderDate, 'start of year') AS yearStart,\n",
        "    COUNT(*) AS ordersCount\n",
        "FROM\n",
        "    Orders\n",
        "GROUP BY\n",
        "    yearStart\n",
        "ORDER BY\n",
        "    yearStart"
      ]
    },
    {
      "cell_type": "markdown",
      "id": "eae02fd8",
      "metadata": {
        "id": "eae02fd8"
      },
      "source": [
        "# Задание 8\n",
        "Выведите `ProductID`, `ProductName`, исходную цену (`UnitPrice`) и цену, приведённую к целому числу (нужно функцию `CAST` применить). Приведенный `UnitPrice` выводите как поле `UnitPriceInt`. Отсортируйте по `ProductName` и ограничьте результат 10 строками.\n",
        "\n"
      ]
    },
    {
      "cell_type": "code",
      "execution_count": 59,
      "id": "1be9f0de",
      "metadata": {
        "colab": {
          "base_uri": "https://localhost:8080/",
          "height": 285
        },
        "id": "1be9f0de",
        "outputId": "eaaefa9d-38c2-4556-b083-3410a2dcd8bf"
      },
      "outputs": [
        {
          "output_type": "stream",
          "name": "stdout",
          "text": [
            " * sqlite:///northwind.db\n",
            "Done.\n"
          ]
        },
        {
          "output_type": "execute_result",
          "data": {
            "text/plain": [
              "[(17, 'Alice Mutton', 39, 39),\n",
              " (3, 'Aniseed Syrup', 10, 10),\n",
              " (40, 'Boston Crab Meat', 18.4, 18),\n",
              " (60, 'Camembert Pierrot', 34, 34),\n",
              " (18, 'Carnarvon Tigers', 62.5, 62),\n",
              " (1, 'Chai', 18, 18),\n",
              " (2, 'Chang', 19, 19),\n",
              " (39, 'Chartreuse verte', 18, 18),\n",
              " (4, \"Chef Anton's Cajun Seasoning\", 22, 22),\n",
              " (5, \"Chef Anton's Gumbo Mix\", 21.35, 21)]"
            ],
            "text/html": [
              "<table>\n",
              "    <tr>\n",
              "        <th>ProductID</th>\n",
              "        <th>ProductName</th>\n",
              "        <th>UnitPrice</th>\n",
              "        <th>UnitPriceInt</th>\n",
              "    </tr>\n",
              "    <tr>\n",
              "        <td>17</td>\n",
              "        <td>Alice Mutton</td>\n",
              "        <td>39</td>\n",
              "        <td>39</td>\n",
              "    </tr>\n",
              "    <tr>\n",
              "        <td>3</td>\n",
              "        <td>Aniseed Syrup</td>\n",
              "        <td>10</td>\n",
              "        <td>10</td>\n",
              "    </tr>\n",
              "    <tr>\n",
              "        <td>40</td>\n",
              "        <td>Boston Crab Meat</td>\n",
              "        <td>18.4</td>\n",
              "        <td>18</td>\n",
              "    </tr>\n",
              "    <tr>\n",
              "        <td>60</td>\n",
              "        <td>Camembert Pierrot</td>\n",
              "        <td>34</td>\n",
              "        <td>34</td>\n",
              "    </tr>\n",
              "    <tr>\n",
              "        <td>18</td>\n",
              "        <td>Carnarvon Tigers</td>\n",
              "        <td>62.5</td>\n",
              "        <td>62</td>\n",
              "    </tr>\n",
              "    <tr>\n",
              "        <td>1</td>\n",
              "        <td>Chai</td>\n",
              "        <td>18</td>\n",
              "        <td>18</td>\n",
              "    </tr>\n",
              "    <tr>\n",
              "        <td>2</td>\n",
              "        <td>Chang</td>\n",
              "        <td>19</td>\n",
              "        <td>19</td>\n",
              "    </tr>\n",
              "    <tr>\n",
              "        <td>39</td>\n",
              "        <td>Chartreuse verte</td>\n",
              "        <td>18</td>\n",
              "        <td>18</td>\n",
              "    </tr>\n",
              "    <tr>\n",
              "        <td>4</td>\n",
              "        <td>Chef Anton&#x27;s Cajun Seasoning</td>\n",
              "        <td>22</td>\n",
              "        <td>22</td>\n",
              "    </tr>\n",
              "    <tr>\n",
              "        <td>5</td>\n",
              "        <td>Chef Anton&#x27;s Gumbo Mix</td>\n",
              "        <td>21.35</td>\n",
              "        <td>21</td>\n",
              "    </tr>\n",
              "</table>"
            ]
          },
          "metadata": {},
          "execution_count": 59
        }
      ],
      "source": [
        "%%sql\n",
        "SELECT\n",
        "    ProductID,\n",
        "    ProductName,\n",
        "    UnitPrice,\n",
        "    CAST(UnitPrice AS INT) AS UnitPriceInt\n",
        "FROM\n",
        "    Products\n",
        "ORDER BY\n",
        "    ProductName\n",
        "LIMIT 10"
      ]
    },
    {
      "cell_type": "markdown",
      "id": "2f2d456c",
      "metadata": {
        "id": "2f2d456c"
      },
      "source": [
        "# Задание 9\n",
        "Объедините таблицы `Orders` (псевдоним o, используйте `AS`) и `Customers` (псевдоним c) по полю `CustomerID`, чтобы вывести `OrderID`, `CompanyName` и `OrderDate`, `CustomerId`. Отсортируйте по `CustomerID`. Ограничьте вывод 10 строками.\n"
      ]
    },
    {
      "cell_type": "code",
      "execution_count": 60,
      "id": "7f28a26a",
      "metadata": {
        "colab": {
          "base_uri": "https://localhost:8080/",
          "height": 285
        },
        "id": "7f28a26a",
        "outputId": "801c6527-3a86-4575-b251-459edd3f763d"
      },
      "outputs": [
        {
          "output_type": "stream",
          "name": "stdout",
          "text": [
            " * sqlite:///northwind.db\n",
            "Done.\n"
          ]
        },
        {
          "output_type": "execute_result",
          "data": {
            "text/plain": [
              "[(10643, 'Alfreds Futterkiste', '2017-08-25', 'ALFKI'),\n",
              " (10692, 'Alfreds Futterkiste', '2017-10-03', 'ALFKI'),\n",
              " (10702, 'Alfreds Futterkiste', '2017-10-13', 'ALFKI'),\n",
              " (10835, 'Alfreds Futterkiste', '2018-01-15', 'ALFKI'),\n",
              " (10952, 'Alfreds Futterkiste', '2018-03-16', 'ALFKI'),\n",
              " (11011, 'Alfreds Futterkiste', '2018-04-09', 'ALFKI'),\n",
              " (11240, 'Alfreds Futterkiste', '2020-12-27 13:13:57', 'ALFKI'),\n",
              " (11450, 'Alfreds Futterkiste', '2016-01-07 07:28:54', 'ALFKI'),\n",
              " (11658, 'Alfreds Futterkiste', '2019-03-10 15:53:13', 'ALFKI'),\n",
              " (11683, 'Alfreds Futterkiste', '2015-09-30 17:07:34', 'ALFKI')]"
            ],
            "text/html": [
              "<table>\n",
              "    <tr>\n",
              "        <th>OrderID</th>\n",
              "        <th>CompanyName</th>\n",
              "        <th>OrderDate</th>\n",
              "        <th>CustomerID</th>\n",
              "    </tr>\n",
              "    <tr>\n",
              "        <td>10643</td>\n",
              "        <td>Alfreds Futterkiste</td>\n",
              "        <td>2017-08-25</td>\n",
              "        <td>ALFKI</td>\n",
              "    </tr>\n",
              "    <tr>\n",
              "        <td>10692</td>\n",
              "        <td>Alfreds Futterkiste</td>\n",
              "        <td>2017-10-03</td>\n",
              "        <td>ALFKI</td>\n",
              "    </tr>\n",
              "    <tr>\n",
              "        <td>10702</td>\n",
              "        <td>Alfreds Futterkiste</td>\n",
              "        <td>2017-10-13</td>\n",
              "        <td>ALFKI</td>\n",
              "    </tr>\n",
              "    <tr>\n",
              "        <td>10835</td>\n",
              "        <td>Alfreds Futterkiste</td>\n",
              "        <td>2018-01-15</td>\n",
              "        <td>ALFKI</td>\n",
              "    </tr>\n",
              "    <tr>\n",
              "        <td>10952</td>\n",
              "        <td>Alfreds Futterkiste</td>\n",
              "        <td>2018-03-16</td>\n",
              "        <td>ALFKI</td>\n",
              "    </tr>\n",
              "    <tr>\n",
              "        <td>11011</td>\n",
              "        <td>Alfreds Futterkiste</td>\n",
              "        <td>2018-04-09</td>\n",
              "        <td>ALFKI</td>\n",
              "    </tr>\n",
              "    <tr>\n",
              "        <td>11240</td>\n",
              "        <td>Alfreds Futterkiste</td>\n",
              "        <td>2020-12-27 13:13:57</td>\n",
              "        <td>ALFKI</td>\n",
              "    </tr>\n",
              "    <tr>\n",
              "        <td>11450</td>\n",
              "        <td>Alfreds Futterkiste</td>\n",
              "        <td>2016-01-07 07:28:54</td>\n",
              "        <td>ALFKI</td>\n",
              "    </tr>\n",
              "    <tr>\n",
              "        <td>11658</td>\n",
              "        <td>Alfreds Futterkiste</td>\n",
              "        <td>2019-03-10 15:53:13</td>\n",
              "        <td>ALFKI</td>\n",
              "    </tr>\n",
              "    <tr>\n",
              "        <td>11683</td>\n",
              "        <td>Alfreds Futterkiste</td>\n",
              "        <td>2015-09-30 17:07:34</td>\n",
              "        <td>ALFKI</td>\n",
              "    </tr>\n",
              "</table>"
            ]
          },
          "metadata": {},
          "execution_count": 60
        }
      ],
      "source": [
        "%%sql\n",
        "SELECT\n",
        "    o.OrderID,\n",
        "    c.CompanyName,\n",
        "    o.OrderDate,\n",
        "    o.CustomerID\n",
        "FROM\n",
        "    Orders AS o\n",
        "INNER JOIN\n",
        "    Customers AS c\n",
        "ON\n",
        "    o.CustomerID = c.CustomerID\n",
        "ORDER BY\n",
        "    o.CustomerID\n",
        "LIMIT 10"
      ]
    },
    {
      "cell_type": "markdown",
      "id": "ad7c9f78",
      "metadata": {
        "id": "ad7c9f78"
      },
      "source": [
        "# Задание 10\n",
        "Объедините таблицы `Customers` (псевдоним `c`) и `Orders` (псевдоним `o`), чтобы для каждого города клиентов:  \n",
        "* Подсчитать количество уникальных клиентов.\n",
        "* Подсчитать общее число заказов, сделанных клиентами из этого города.\n",
        "* Выведите столбцы:\n",
        "    * `City` – город клиента\n",
        "    * `CustomersCount` – количество уникальных клиентов в этом городе\n",
        "    * `OrdersCount` – общее количество заказов.\n",
        "* Отсортируйте результат по убыванию количества заказов и ограничьте вывод 10 строками.\n",
        "\n",
        "\n"
      ]
    },
    {
      "cell_type": "code",
      "execution_count": 61,
      "id": "5983d1dd",
      "metadata": {
        "colab": {
          "base_uri": "https://localhost:8080/",
          "height": 285
        },
        "id": "5983d1dd",
        "outputId": "4ebb981d-644d-42f1-9462-70718dbdb42a"
      },
      "outputs": [
        {
          "output_type": "stream",
          "name": "stdout",
          "text": [
            " * sqlite:///northwind.db\n",
            "Done.\n"
          ]
        },
        {
          "output_type": "execute_result",
          "data": {
            "text/plain": [
              "[('London', 6, 1049),\n",
              " ('México D.F.', 5, 898),\n",
              " ('Sao Paulo', 4, 720),\n",
              " ('Rio de Janeiro', 3, 552),\n",
              " ('Buenos Aires', 3, 516),\n",
              " ('Madrid', 3, 513),\n",
              " ('Lisboa', 2, 355),\n",
              " ('Paris', 2, 349),\n",
              " ('Nantes', 2, 347),\n",
              " (None, 2, 335)]"
            ],
            "text/html": [
              "<table>\n",
              "    <tr>\n",
              "        <th>City</th>\n",
              "        <th>CustomersCount</th>\n",
              "        <th>OrdersCount</th>\n",
              "    </tr>\n",
              "    <tr>\n",
              "        <td>London</td>\n",
              "        <td>6</td>\n",
              "        <td>1049</td>\n",
              "    </tr>\n",
              "    <tr>\n",
              "        <td>México D.F.</td>\n",
              "        <td>5</td>\n",
              "        <td>898</td>\n",
              "    </tr>\n",
              "    <tr>\n",
              "        <td>Sao Paulo</td>\n",
              "        <td>4</td>\n",
              "        <td>720</td>\n",
              "    </tr>\n",
              "    <tr>\n",
              "        <td>Rio de Janeiro</td>\n",
              "        <td>3</td>\n",
              "        <td>552</td>\n",
              "    </tr>\n",
              "    <tr>\n",
              "        <td>Buenos Aires</td>\n",
              "        <td>3</td>\n",
              "        <td>516</td>\n",
              "    </tr>\n",
              "    <tr>\n",
              "        <td>Madrid</td>\n",
              "        <td>3</td>\n",
              "        <td>513</td>\n",
              "    </tr>\n",
              "    <tr>\n",
              "        <td>Lisboa</td>\n",
              "        <td>2</td>\n",
              "        <td>355</td>\n",
              "    </tr>\n",
              "    <tr>\n",
              "        <td>Paris</td>\n",
              "        <td>2</td>\n",
              "        <td>349</td>\n",
              "    </tr>\n",
              "    <tr>\n",
              "        <td>Nantes</td>\n",
              "        <td>2</td>\n",
              "        <td>347</td>\n",
              "    </tr>\n",
              "    <tr>\n",
              "        <td>None</td>\n",
              "        <td>2</td>\n",
              "        <td>335</td>\n",
              "    </tr>\n",
              "</table>"
            ]
          },
          "metadata": {},
          "execution_count": 61
        }
      ],
      "source": [
        "%%sql\n",
        "SELECT\n",
        "    c.City,\n",
        "    COUNT(DISTINCT c.CustomerID) AS CustomersCount,\n",
        "    COUNT(o.OrderID) AS OrdersCount\n",
        "FROM\n",
        "    Customers AS c\n",
        "LEFT JOIN\n",
        "    Orders AS o\n",
        "ON\n",
        "    c.CustomerID = o.CustomerID\n",
        "GROUP BY\n",
        "    c.City\n",
        "ORDER BY\n",
        "    OrdersCount DESC\n",
        "LIMIT 10"
      ]
    },
    {
      "cell_type": "markdown",
      "source": [
        "![photo_2025-03-25_20-05-45.jpg](data:image/jpeg;base64,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)"
      ],
      "metadata": {
        "id": "tYpy_tv4RJ4e"
      },
      "id": "tYpy_tv4RJ4e"
    },
    {
      "cell_type": "markdown",
      "id": "84052085",
      "metadata": {
        "id": "84052085"
      },
      "source": [
        "![photo_2025-02-15_14-06-33.jpg](data:image/jpeg;base64,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)"
      ]
    }
  ],
  "metadata": {
    "kernelspec": {
      "display_name": "Python 3",
      "language": "python",
      "name": "python3"
    },
    "language_info": {
      "codemirror_mode": {
        "name": "ipython",
        "version": 3
      },
      "file_extension": ".py",
      "mimetype": "text/x-python",
      "name": "python",
      "nbconvert_exporter": "python",
      "pygments_lexer": "ipython3",
      "version": "3.11.7"
    },
    "colab": {
      "provenance": [],
      "include_colab_link": true
    }
  },
  "nbformat": 4,
  "nbformat_minor": 5
}